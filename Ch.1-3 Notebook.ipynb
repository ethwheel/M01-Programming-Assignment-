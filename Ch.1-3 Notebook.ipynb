{
 "cells": [
  {
   "cell_type": "code",
   "execution_count": 6,
   "id": "b84510ec-7387-4256-a30c-179ffbc0ec66",
   "metadata": {
    "scrolled": true
   },
   "outputs": [
    {
     "name": "stdout",
     "output_type": "stream",
     "text": [
      "24.0\n",
      "24.0\n"
     ]
    }
   ],
   "source": [
    "seconds_per_hour = int(60*60)\n",
    "seconds_per_day = int(seconds_per_hour*24)\n",
    "fl_div = float(seconds_per_day/seconds_per_hour)\n",
    "in_div = int(seconds_per_day//seconds_per_hour)\n",
    "print(fl_div)\n",
    "print(in_div)"
   ]
  },
  {
   "cell_type": "code",
   "execution_count": null,
   "id": "a2e03329-455d-460c-b848-ef63053c78c9",
   "metadata": {},
   "outputs": [],
   "source": [
    "#No, there was no difference in output regardless of selected number type. "
   ]
  }
 ],
 "metadata": {
  "kernelspec": {
   "display_name": "Python 3 (ipykernel)",
   "language": "python",
   "name": "python3"
  },
  "language_info": {
   "codemirror_mode": {
    "name": "ipython",
    "version": 3
   },
   "file_extension": ".py",
   "mimetype": "text/x-python",
   "name": "python",
   "nbconvert_exporter": "python",
   "pygments_lexer": "ipython3",
   "version": "3.11.7"
  }
 },
 "nbformat": 4,
 "nbformat_minor": 5
}
